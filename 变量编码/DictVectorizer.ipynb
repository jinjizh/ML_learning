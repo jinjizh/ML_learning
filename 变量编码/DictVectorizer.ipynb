{
 "cells": [
  {
   "cell_type": "code",
   "execution_count": 16,
   "metadata": {},
   "outputs": [],
   "source": [
    "from sklearn.feature_extraction import DictVectorizer  \n",
    "data = [\n",
    "    {'city': '北京','temperature':100},\n",
    "    {'city': '上海','temperature':60},\n",
    "    {'city': '深圳','temperature':30},\n",
    "]"
   ]
  },
  {
   "cell_type": "code",
   "execution_count": 18,
   "metadata": {},
   "outputs": [
    {
     "name": "stdout",
     "output_type": "stream",
     "text": [
      "['city=上海', 'city=北京', 'city=深圳', 'temperature']\n",
      "[[  0.   1.   0. 100.]\n",
      " [  1.   0.   0.  60.]\n",
      " [  0.   0.   1.  30.]]\n"
     ]
    }
   ],
   "source": [
    "dic = DictVectorizer(sparse=False)\n",
    "# 数据转换\n",
    "dat = dic.fit_transform(data)\n",
    "# 数据分类名称\n",
    "print(dic.get_feature_names())\n",
    "\n",
    "print(dat)\n",
    "\n",
    "# 数据回转，把数据转换为最先的未处理格式\n",
    "#print(dic.inverse_transform(dat))\n"
   ]
  },
  {
   "cell_type": "code",
   "execution_count": 20,
   "metadata": {},
   "outputs": [
    {
     "name": "stdout",
     "output_type": "stream",
     "text": [
      "['city=上海', 'city=北京', 'city=深圳', 'temperature']\n",
      "  (0, 1)\t1.0\n",
      "  (0, 3)\t100.0\n",
      "  (1, 0)\t1.0\n",
      "  (1, 3)\t60.0\n",
      "  (2, 2)\t1.0\n",
      "  (2, 3)\t30.0\n"
     ]
    }
   ],
   "source": [
    "dic = DictVectorizer(sparse=True)\n",
    "# 数据转换\n",
    "dat = dic.fit_transform(data)\n",
    "# 数据分类名称\n",
    "print(dic.get_feature_names())\n",
    "\n",
    "print(dat)"
   ]
  },
  {
   "cell_type": "code",
   "execution_count": 30,
   "metadata": {},
   "outputs": [
    {
     "name": "stdout",
     "output_type": "stream",
     "text": [
      "****************************原数据:****************************\n",
      "[{'foo': 1, 'bar': 2}, {'foo': 3, 'baz': 1}]\n",
      "***************************特征矩阵:****************************\n",
      "[[2. 0. 1.]\n",
      " [0. 1. 3.]]\n",
      "***************************特征名称:****************************\n",
      "['bar', 'baz', 'foo']\n",
      "**************************还原成原始数据:**************************\n",
      "True\n",
      "***************************直接转换:****************************\n",
      "[[0. 0. 4.]]\n"
     ]
    }
   ],
   "source": [
    "from sklearn.feature_extraction import DictVectorizer\n",
    " \n",
    "# 设置sparse=False获得numpy ndarray形式的结果\n",
    "v = DictVectorizer(sparse=False)\n",
    "D = [{\"foo\": 1, \"bar\": 2}, {\"foo\": 3, \"baz\": 1}]\n",
    "print ('{:*^60}'.format('原数据:'))\n",
    "print(D)\n",
    "# 对字典列表D进行转换，转换成特征矩阵\n",
    "X = v.fit_transform(D)\n",
    "# 特征矩阵的行代表数据，列代表特征，0表示该数据没有该特征\n",
    "print ('{:*^60}'.format('特征矩阵:'))\n",
    "print(X)\n",
    "# 获取特征列名\n",
    "print ('{:*^60}'.format('特征名称:'))\n",
    "print(v.get_feature_names())\n",
    "\n",
    "# inverse_transform可以将特征矩阵还原成原始数据\n",
    "print ('{:*^60}'.format('还原成原始数据:'))\n",
    "print(v.inverse_transform(X) == D)\n",
    "\n",
    "# 直接进行转换，不先进行拟合的话，无法识别新的特征\n",
    "print ('{:*^60}'.format('直接转换:'))\n",
    "print(v.transform([{\"foo\": 4, \"unseen_feature\": 3}]))"
   ]
  },
  {
   "cell_type": "code",
   "execution_count": 31,
   "metadata": {},
   "outputs": [
    {
     "name": "stdout",
     "output_type": "stream",
     "text": [
      "****************************原数据:****************************\n",
      "[{'foo': 1, 'bar': 2}, {'foo': 3, 'baz': 1}]\n",
      "***************************特征矩阵:****************************\n",
      "  (0, 0)\t2.0\n",
      "  (0, 2)\t1.0\n",
      "  (1, 1)\t1.0\n",
      "  (1, 2)\t3.0\n",
      "***************************特征名称:****************************\n",
      "['bar', 'baz', 'foo']\n",
      "**************************还原成原始数据:**************************\n",
      "True\n",
      "***************************直接转换:****************************\n",
      "  (0, 2)\t4.0\n"
     ]
    }
   ],
   "source": [
    "from sklearn.feature_extraction import DictVectorizer\n",
    " \n",
    "# 设置sparse=False获得numpy ndarray形式的结果\n",
    "v = DictVectorizer(sparse=True)\n",
    "D = [{\"foo\": 1, \"bar\": 2}, {\"foo\": 3, \"baz\": 1}]\n",
    "print ('{:*^60}'.format('原数据:'))\n",
    "print(D)\n",
    "# 对字典列表D进行转换，转换成特征矩阵\n",
    "X = v.fit_transform(D)\n",
    "# 特征矩阵的行代表数据，列代表特征，0表示该数据没有该特征\n",
    "print ('{:*^60}'.format('特征矩阵:'))\n",
    "print(X)\n",
    "# 获取特征列名\n",
    "print ('{:*^60}'.format('特征名称:'))\n",
    "print(v.get_feature_names())\n",
    "\n",
    "# inverse_transform可以将特征矩阵还原成原始数据\n",
    "print ('{:*^60}'.format('还原成原始数据:'))\n",
    "print(v.inverse_transform(X) == D)\n",
    "\n",
    "# 直接进行转换，不先进行拟合的话，无法识别新的特征\n",
    "print ('{:*^60}'.format('直接转换:'))\n",
    "print(v.transform([{\"foo\": 4, \"unseen_feature\": 3}]))"
   ]
  },
  {
   "cell_type": "code",
   "execution_count": null,
   "metadata": {},
   "outputs": [],
   "source": []
  }
 ],
 "metadata": {
  "kernelspec": {
   "display_name": "Python 3",
   "language": "python",
   "name": "python3"
  },
  "language_info": {
   "codemirror_mode": {
    "name": "ipython",
    "version": 3
   },
   "file_extension": ".py",
   "mimetype": "text/x-python",
   "name": "python",
   "nbconvert_exporter": "python",
   "pygments_lexer": "ipython3",
   "version": "3.7.0"
  }
 },
 "nbformat": 4,
 "nbformat_minor": 2
}

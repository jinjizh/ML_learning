{
 "cells": [
  {
   "cell_type": "markdown",
   "metadata": {},
   "source": [
    "# 导入工具包"
   ]
  },
  {
   "cell_type": "code",
   "execution_count": 16,
   "metadata": {},
   "outputs": [],
   "source": [
    "import numpy as np  # numpy库\n",
    "import pandas as pd  # pandas库"
   ]
  },
  {
   "cell_type": "markdown",
   "metadata": {},
   "source": [
    "# 定义数据缺失查看函数"
   ]
  },
  {
   "cell_type": "code",
   "execution_count": 33,
   "metadata": {},
   "outputs": [],
   "source": [
    "def na_summary(df):\n",
    "    '''\n",
    "    查看数据集的缺失数据列、行记录数\n",
    "    :param df: 数据框\n",
    "    :return: 无\n",
    "    '''\n",
    "    print ('{:*^60}'.format('含有缺失值的列数:'))\n",
    "    print (df.isnull().any().sum())  # 查找是否还有缺失值\n",
    "    na_cols = df.isnull().any(axis=0)  # 查看每一列是否具有缺失值\n",
    "    print ('{:*^60}'.format('含有缺失值的列:'))\n",
    "    print (na_cols)  # 查看具有缺失值的列\n",
    "    na_lines = df.isnull().any(axis=1)  # 查看每一行是否具有缺失值\n",
    "    print ('{:*^60}'.format('含有缺失值的总行数:'))\n",
    "    print (na_lines.sum())  # 查看具有缺失值的行总记录数\n",
    "    print ('{:*^60}'.format('具有缺失值的行信息:'))\n",
    "    print (df[na_lines])  # 只查看具有缺失值的行信息"
   ]
  },
  {
   "cell_type": "markdown",
   "metadata": {},
   "source": [
    "# 读取数据"
   ]
  },
  {
   "cell_type": "code",
   "execution_count": 34,
   "metadata": {},
   "outputs": [],
   "source": [
    "# 数据应用\n",
    "# 定义特殊字段数据格式\n",
    "dtypes = {'order_id': np.object,'pro_id': np.object,'use_id': np.object}\n",
    "\n",
    "raw_data = pd.read_table('abnormal_orders.txt', delimiter=',', dtype=dtypes)  # 读取数据集"
   ]
  },
  {
   "cell_type": "markdown",
   "metadata": {},
   "source": [
    "# 执行数据缺失查看函数"
   ]
  },
  {
   "cell_type": "code",
   "execution_count": 35,
   "metadata": {},
   "outputs": [
    {
     "name": "stdout",
     "output_type": "stream",
     "text": [
      "*************************含有缺失值的列数:**************************\n",
      "4\n",
      "**************************含有缺失值的列:**************************\n",
      "order_id          False\n",
      "order_date        False\n",
      "order_time        False\n",
      "cat                True\n",
      "attribution       False\n",
      "pro_id            False\n",
      "pro_brand          True\n",
      "total_money        True\n",
      "total_quantity    False\n",
      "order_source      False\n",
      "pay_type          False\n",
      "use_id            False\n",
      "city               True\n",
      "abnormal_label    False\n",
      "dtype: bool\n",
      "*************************含有缺失值的总行数:*************************\n",
      "1429\n",
      "*************************具有缺失值的行信息:*************************\n",
      "          order_id  order_date order_time  cat attribution      pro_id  \\\n",
      "0       4277880103  2013-10-17   13:09:16  NaN          GO  8000001215   \n",
      "2       4277700101  2013-08-27   14:26:38  NaN          GO  7000000960   \n",
      "16      4277880104  2013-09-16   14:00:36  NaN          GO  8000422353   \n",
      "167     4277880230  2013-09-14   21:24:35  NaN          GO  8000257396   \n",
      "487     4247561387  2013-10-13   20:00:23  NaN          GO  8000422342   \n",
      "...            ...         ...        ...  ...         ...         ...   \n",
      "132131  4285388909  2013-04-01   23:59:02  NaN          GO  6000001424   \n",
      "132379  4285430011  2013-05-21   21:17:55  NaN          GO  6000001424   \n",
      "133347  4285557515  2013-01-03   23:29:21  NaN          GO  6000001423   \n",
      "133903  4285646547  2013-08-21   22:48:42  NaN          GO  6000001424   \n",
      "133956  4285656101  2013-08-01   22:50:25  NaN          GO  6000001424   \n",
      "\n",
      "       pro_brand  total_money  total_quantity order_source pay_type  \\\n",
      "0            NaN       1000.0            1000         游戏站点     当当支付   \n",
      "2         国之美艺术品       8000.0             160   do.site_id     在线支付   \n",
      "16           NaN         66.0              66         游戏站点     当当支付   \n",
      "167          NaN         20.0              20         游戏站点     当当支付   \n",
      "487          NaN         10.0              10         游戏站点     当当支付   \n",
      "...          ...          ...             ...          ...      ...   \n",
      "132131       NaN          0.5               1           主站     货到付款   \n",
      "132379       NaN          0.5               1           主站     合并支付   \n",
      "133347       NaN          0.5               1           主站     货到付款   \n",
      "133903       NaN          0.5               1           主站     货到付款   \n",
      "133956       NaN          0.5               1           主站     合并支付   \n",
      "\n",
      "            use_id city  abnormal_label  \n",
      "0       murongchun  北京市               0  \n",
      "2       1391175862  NaN               1  \n",
      "16         ldf1776  北京市               0  \n",
      "167       yigki123  北京市               0  \n",
      "487     darkswordm  北京市               0  \n",
      "...            ...  ...             ...  \n",
      "132131    hyxing51  上海市               0  \n",
      "132379  511647368_  福州市               0  \n",
      "133347  qq-02df0b0  深圳市               0  \n",
      "133903   yangx2013  嘉兴市               0  \n",
      "133956  1837531891  芜湖市               0  \n",
      "\n",
      "[1429 rows x 14 columns]\n"
     ]
    }
   ],
   "source": [
    "na_summary(raw_data)  # 缺失值审查"
   ]
  },
  {
   "cell_type": "markdown",
   "metadata": {},
   "source": [
    "# 缺失值处理"
   ]
  },
  {
   "cell_type": "markdown",
   "metadata": {},
   "source": [
    "## 丢弃处理\n",
    "将含有缺失值的行数全部丢弃"
   ]
  },
  {
   "cell_type": "code",
   "execution_count": 20,
   "metadata": {},
   "outputs": [],
   "source": [
    "drop_na_set = raw_data.dropna()  # 丢弃带有NA值的数据行"
   ]
  },
  {
   "cell_type": "code",
   "execution_count": 39,
   "metadata": {},
   "outputs": [
    {
     "name": "stdout",
     "output_type": "stream",
     "text": [
      "*************************含有缺失值的列数:**************************\n",
      "0\n",
      "**************************含有缺失值的列:**************************\n",
      "order_id          False\n",
      "order_date        False\n",
      "order_time        False\n",
      "cat               False\n",
      "attribution       False\n",
      "pro_id            False\n",
      "pro_brand         False\n",
      "total_money       False\n",
      "total_quantity    False\n",
      "order_source      False\n",
      "pay_type          False\n",
      "use_id            False\n",
      "city              False\n",
      "abnormal_label    False\n",
      "dtype: bool\n"
     ]
    }
   ],
   "source": [
    "na_cols = drop_na_set.isnull().any(axis=0)  # 查看每一列是否具有缺失值\n",
    "print ('{:*^60}'.format('含有缺失值的列数:'))\n",
    "print (drop_na_set.isnull().any().sum())  # 查找是否还有缺失值\n",
    "print ('{:*^60}'.format('含有缺失值的列:'))\n",
    "print (na_cols)  # 查看具有缺失值的列"
   ]
  },
  {
   "cell_type": "markdown",
   "metadata": {},
   "source": [
    "## 替换处理\n",
    "将数值型的列通过均值的方式进行替换"
   ]
  },
  {
   "cell_type": "code",
   "execution_count": 44,
   "metadata": {},
   "outputs": [],
   "source": [
    "def na_replace(df):\n",
    "    '''\n",
    "    将数据集中的NA值使用自定义方法替换\n",
    "    :param df: 数据框\n",
    "    :return: NA值替换后的数据框\n",
    "    '''\n",
    "    na_rules = {'total_money': df['total_money'].mean()\n",
    "                }  # 字典：定义各个列数据转换方法\n",
    "    df = df.fillna(na_rules)  # 使用指定方法填充缺失值\n",
    "    print ('{:*^60}'.format('含有缺失值的列数:'))\n",
    "    print (df.isnull().any().sum())  # 查找是否还有缺失值\n",
    "    return df"
   ]
  },
  {
   "cell_type": "code",
   "execution_count": 45,
   "metadata": {},
   "outputs": [
    {
     "name": "stdout",
     "output_type": "stream",
     "text": [
      "*************************含有缺失值的列数:**************************\n",
      "3\n",
      "**************************含有缺失值的列:**************************\n",
      "order_id          False\n",
      "order_date        False\n",
      "order_time        False\n",
      "cat                True\n",
      "attribution       False\n",
      "pro_id            False\n",
      "pro_brand          True\n",
      "total_money       False\n",
      "total_quantity    False\n",
      "order_source      False\n",
      "pay_type          False\n",
      "use_id            False\n",
      "city               True\n",
      "abnormal_label    False\n",
      "dtype: bool\n"
     ]
    }
   ],
   "source": [
    "drop_na_set_replace = na_replace(raw_data)\n",
    "\n",
    "na_cols = drop_na_set_replace.isnull().any(axis=0)  # 查看每一列是否具有缺失值\n",
    "print ('{:*^60}'.format('含有缺失值的列:'))\n",
    "print (na_cols)  # 查看具有缺失值的列"
   ]
  },
  {
   "cell_type": "code",
   "execution_count": null,
   "metadata": {},
   "outputs": [],
   "source": []
  },
  {
   "cell_type": "code",
   "execution_count": null,
   "metadata": {},
   "outputs": [],
   "source": []
  }
 ],
 "metadata": {
  "kernelspec": {
   "display_name": "Python 3",
   "language": "python",
   "name": "python3"
  },
  "language_info": {
   "codemirror_mode": {
    "name": "ipython",
    "version": 3
   },
   "file_extension": ".py",
   "mimetype": "text/x-python",
   "name": "python",
   "nbconvert_exporter": "python",
   "pygments_lexer": "ipython3",
   "version": "3.7.0"
  }
 },
 "nbformat": 4,
 "nbformat_minor": 2
}

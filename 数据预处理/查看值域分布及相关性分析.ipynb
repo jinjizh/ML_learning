{
 "cells": [
  {
   "cell_type": "markdown",
   "metadata": {},
   "source": [
    "# 导入工具包"
   ]
  },
  {
   "cell_type": "code",
   "execution_count": 1,
   "metadata": {},
   "outputs": [],
   "source": [
    "import numpy as np  # numpy库\n",
    "import pandas as pd  # pandas库\n"
   ]
  },
  {
   "cell_type": "markdown",
   "metadata": {},
   "source": [
    "# 读取数据"
   ]
  },
  {
   "cell_type": "code",
   "execution_count": 2,
   "metadata": {},
   "outputs": [
    {
     "data": {
      "text/html": [
       "<div>\n",
       "<style scoped>\n",
       "    .dataframe tbody tr th:only-of-type {\n",
       "        vertical-align: middle;\n",
       "    }\n",
       "\n",
       "    .dataframe tbody tr th {\n",
       "        vertical-align: top;\n",
       "    }\n",
       "\n",
       "    .dataframe thead th {\n",
       "        text-align: right;\n",
       "    }\n",
       "</style>\n",
       "<table border=\"1\" class=\"dataframe\">\n",
       "  <thead>\n",
       "    <tr style=\"text-align: right;\">\n",
       "      <th></th>\n",
       "      <th>limit_infor</th>\n",
       "      <th>campaign_type</th>\n",
       "      <th>campaign_level</th>\n",
       "      <th>product_level</th>\n",
       "      <th>resource_amount</th>\n",
       "      <th>email_rate</th>\n",
       "      <th>price</th>\n",
       "      <th>discount_rate</th>\n",
       "      <th>hour_resouces</th>\n",
       "      <th>campaign_fee</th>\n",
       "      <th>orders</th>\n",
       "    </tr>\n",
       "  </thead>\n",
       "  <tbody>\n",
       "    <tr>\n",
       "      <th>0</th>\n",
       "      <td>0</td>\n",
       "      <td>6</td>\n",
       "      <td>0</td>\n",
       "      <td>1</td>\n",
       "      <td>1</td>\n",
       "      <td>0.08</td>\n",
       "      <td>140.0</td>\n",
       "      <td>0.83</td>\n",
       "      <td>93</td>\n",
       "      <td>888</td>\n",
       "      <td>1981</td>\n",
       "    </tr>\n",
       "    <tr>\n",
       "      <th>1</th>\n",
       "      <td>0</td>\n",
       "      <td>0</td>\n",
       "      <td>0</td>\n",
       "      <td>1</td>\n",
       "      <td>1</td>\n",
       "      <td>0.10</td>\n",
       "      <td>144.0</td>\n",
       "      <td>0.75</td>\n",
       "      <td>150</td>\n",
       "      <td>836</td>\n",
       "      <td>986</td>\n",
       "    </tr>\n",
       "  </tbody>\n",
       "</table>\n",
       "</div>"
      ],
      "text/plain": [
       "   limit_infor  campaign_type  campaign_level  product_level  resource_amount  \\\n",
       "0            0              6               0              1                1   \n",
       "1            0              0               0              1                1   \n",
       "\n",
       "   email_rate  price  discount_rate  hour_resouces  campaign_fee  orders  \n",
       "0        0.08  140.0           0.83             93           888    1981  \n",
       "1        0.10  144.0           0.75            150           836     986  "
      ]
     },
     "execution_count": 2,
     "metadata": {},
     "output_type": "execute_result"
    }
   ],
   "source": [
    "raw_data = pd.read_table('products_sales.txt', delimiter=',')\n",
    "\n",
    "raw_data.head(2)"
   ]
  },
  {
   "cell_type": "markdown",
   "metadata": {},
   "source": [
    "# 查看值域分布"
   ]
  },
  {
   "cell_type": "code",
   "execution_count": 3,
   "metadata": {},
   "outputs": [
    {
     "name": "stdout",
     "output_type": "stream",
     "text": [
      "**************limit_infor unique values:[ 0  1 10]***************\n",
      "**************campaign_type unique values:[0 1 2 3 4 5 6]***************\n",
      "**************campaign_level unique values:[0 1]***************\n",
      "**************product_level unique values:[1 2 3]***************\n"
     ]
    }
   ],
   "source": [
    "col_names = ['limit_infor', 'campaign_type', 'campaign_level', 'product_level']  # 定义要查看的列\n",
    "for col_name in col_names:  # 循环读取每个列\n",
    "    unque_value = np.sort(raw_data[col_name].unique())  # 获得列唯一值\n",
    "    print ('{:*^50}'.format('{1} unique values:{0}').format(unque_value, col_name))  # 打印输出"
   ]
  },
  {
   "cell_type": "markdown",
   "metadata": {},
   "source": [
    "# 相关性分析"
   ]
  },
  {
   "cell_type": "code",
   "execution_count": 4,
   "metadata": {},
   "outputs": [
    {
     "name": "stdout",
     "output_type": "stream",
     "text": [
      "********************Correlation Analyze:********************\n",
      "          li    ct    cl    pl    ra    er  price    dr    hr    cf  orders\n",
      "li      1.00 -0.03 -0.08 -0.04  0.05  0.04  -0.02  0.00  0.01 -0.04   -0.02\n",
      "ct     -0.03  1.00  0.04  0.03  0.01 -0.01  -0.05 -0.01  0.06  0.06    0.06\n",
      "cl     -0.08  0.04  1.00  0.06  0.05  0.05   0.02  0.02 -0.52  0.26    0.05\n",
      "pl     -0.04  0.03  0.06  1.00 -0.12 -0.12   0.59 -0.04 -0.25 -0.23   -0.30\n",
      "ra      0.05  0.01  0.05 -0.12  1.00  0.98   0.13  0.15  0.54  0.46    0.62\n",
      "er      0.04 -0.01  0.05 -0.12  0.98  1.00   0.14  0.18  0.54  0.47    0.63\n",
      "price  -0.02 -0.05  0.02  0.59  0.13  0.14   1.00  0.25 -0.08 -0.11   -0.10\n",
      "dr      0.00 -0.01  0.02 -0.04  0.15  0.18   0.25  1.00  0.17  0.19    0.23\n",
      "hr      0.01  0.06 -0.52 -0.25  0.54  0.54  -0.08  0.17  1.00  0.32    0.66\n",
      "cf     -0.04  0.06  0.26 -0.23  0.46  0.47  -0.11  0.19  0.32  1.00    0.76\n",
      "orders -0.02  0.06  0.05 -0.30  0.62  0.63  -0.10  0.23  0.66  0.76    1.00\n",
      "{'limit_infor': 'li', 'campaign_type': 'ct', 'campaign_level': 'cl', 'product_level': 'pl', 'resource_amount': 'ra', 'email_rate': 'er', 'price': 'price', 'discount_rate': 'dr', 'hour_resouces': 'hr', 'campaign_fee': 'cf', 'orders': 'orders'}\n"
     ]
    }
   ],
   "source": [
    "# 相关性分析\n",
    "print ('{:*^60}'.format('Correlation Analyze:'))\n",
    "short_name = ['li', 'ct', 'cl', 'pl', 'ra', 'er', 'price', 'dr', 'hr', 'cf', 'orders']\n",
    "long_name = raw_data.columns\n",
    "name_dict = dict(zip(long_name, short_name))\n",
    "print (raw_data.corr().round(2).rename(index=name_dict, columns=name_dict))  # 输出所有输入特征变量以及预测变量的相关性矩阵\n",
    "print (name_dict)"
   ]
  },
  {
   "cell_type": "code",
   "execution_count": null,
   "metadata": {},
   "outputs": [],
   "source": []
  },
  {
   "cell_type": "code",
   "execution_count": null,
   "metadata": {},
   "outputs": [],
   "source": []
  }
 ],
 "metadata": {
  "kernelspec": {
   "display_name": "Python 3",
   "language": "python",
   "name": "python3"
  },
  "language_info": {
   "codemirror_mode": {
    "name": "ipython",
    "version": 3
   },
   "file_extension": ".py",
   "mimetype": "text/x-python",
   "name": "python",
   "nbconvert_exporter": "python",
   "pygments_lexer": "ipython3",
   "version": "3.7.0"
  }
 },
 "nbformat": 4,
 "nbformat_minor": 2
}

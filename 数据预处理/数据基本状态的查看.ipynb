{
 "cells": [
  {
   "cell_type": "code",
   "execution_count": 1,
   "metadata": {},
   "outputs": [],
   "source": [
    "import numpy as np  # numpy库\n",
    "import pandas as pd  # pandas库"
   ]
  },
  {
   "cell_type": "code",
   "execution_count": 2,
   "metadata": {},
   "outputs": [],
   "source": [
    "# 数据审查和预处理函数\n",
    "# 基本状态查看\n",
    "def set_summary(df):\n",
    "    '''\n",
    "    查看数据集后2条数据、数据类型、描述性统计\n",
    "    :param df: 数据框\n",
    "    :return: 无\n",
    "    '''\n",
    "    print ('{:*^60}'.format('Data overview:'))\n",
    "    print (df.tail(2))  # 打印原始数据后2条\n",
    "    print ('{:*^60}'.format('Data dtypes:'))\n",
    "    print (df.dtypes)  # 打印数据类型\n",
    "    print ('{:*^60}'.format('Data DESC:'))\n",
    "    print (df.describe().round(2).T)  # 打印原始数据基本描述性信息"
   ]
  },
  {
   "cell_type": "code",
   "execution_count": 5,
   "metadata": {},
   "outputs": [],
   "source": [
    "# 数据应用\n",
    "# 定义特殊字段数据格式\n",
    "dtypes = {'order_id': np.object,'pro_id': np.object,'use_id': np.object}\n",
    "raw_data = pd.read_table('abnormal_orders.txt', delimiter=',', dtype=dtypes)  # 读取数据集\n"
   ]
  },
  {
   "cell_type": "code",
   "execution_count": 6,
   "metadata": {},
   "outputs": [
    {
     "name": "stdout",
     "output_type": "stream",
     "text": [
      "***********************Data overview:***********************\n",
      "          order_id  order_date order_time       cat attribution      pro_id  \\\n",
      "134188  4285770012  2013-09-19   23:55:06      家居日用          GO  1000335947   \n",
      "134189  4285770056  2013-05-20   23:58:59  生活电器厨卫电器          GO  1000009280   \n",
      "\n",
      "       pro_brand  total_money  total_quantity order_source pay_type  \\\n",
      "134188       炊大师         79.0               1           抢购     合并支付   \n",
      "134189        海尔        799.0               1           抢购     合并支付   \n",
      "\n",
      "            use_id city  abnormal_label  \n",
      "134188      shukun  东莞市               0  \n",
      "134189  544975322_  海口市               0  \n",
      "************************Data dtypes:************************\n",
      "order_id           object\n",
      "order_date         object\n",
      "order_time         object\n",
      "cat                object\n",
      "attribution        object\n",
      "pro_id             object\n",
      "pro_brand          object\n",
      "total_money       float64\n",
      "total_quantity      int64\n",
      "order_source       object\n",
      "pay_type           object\n",
      "use_id             object\n",
      "city               object\n",
      "abnormal_label      int64\n",
      "dtype: object\n",
      "*************************Data DESC:*************************\n",
      "                   count    mean      std  min   25%   50%    75%       max\n",
      "total_money     134189.0  660.11  2901.21  0.5  29.0  98.4  372.0  766000.0\n",
      "total_quantity  134190.0    1.20     3.23  1.0   1.0   1.0    1.0    1000.0\n",
      "abnormal_label  134190.0    0.21     0.41  0.0   0.0   0.0    0.0       1.0\n"
     ]
    }
   ],
   "source": [
    "set_summary(raw_data)  # 基本状态查看"
   ]
  },
  {
   "cell_type": "code",
   "execution_count": null,
   "metadata": {},
   "outputs": [],
   "source": []
  }
 ],
 "metadata": {
  "kernelspec": {
   "display_name": "Python 3",
   "language": "python",
   "name": "python3"
  },
  "language_info": {
   "codemirror_mode": {
    "name": "ipython",
    "version": 3
   },
   "file_extension": ".py",
   "mimetype": "text/x-python",
   "name": "python",
   "nbconvert_exporter": "python",
   "pygments_lexer": "ipython3",
   "version": "3.7.0"
  }
 },
 "nbformat": 4,
 "nbformat_minor": 2
}

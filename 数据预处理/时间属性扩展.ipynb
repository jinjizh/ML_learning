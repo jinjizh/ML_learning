{
 "cells": [
  {
   "cell_type": "markdown",
   "metadata": {},
   "source": [
    "# 导入工具包"
   ]
  },
  {
   "cell_type": "code",
   "execution_count": 4,
   "metadata": {},
   "outputs": [],
   "source": [
    "import numpy as np  # numpy库\n",
    "import pandas as pd  # pandas库\n"
   ]
  },
  {
   "cell_type": "markdown",
   "metadata": {},
   "source": [
    "# 定义时间属性拓展函数"
   ]
  },
  {
   "cell_type": "code",
   "execution_count": 28,
   "metadata": {},
   "outputs": [],
   "source": [
    "# 时间属性拓展\n",
    "def datetime2int(set1):\n",
    "    '''\n",
    "    将日期和时间数据拓展出其他属性，例如星期几、周几、小时、分钟等。\n",
    "    :param set: 数据集\n",
    "    :return: 拓展后的属性矩阵\n",
    "    '''\n",
    "    date_set = list(map(lambda dates: pd.datetime.strptime(dates, '%Y-%m-%d'),\n",
    "                   set1['order_date']))  # 将set中的order_date列转换为特定日期格式\n",
    "    weekday_data = list(map(lambda data: data.weekday(), date_set))  # 周几\n",
    "    daysinmonth_data = list(map(lambda data: data.day, date_set))  # 当月几号\n",
    "    month_data = list(map(lambda data: data.month, date_set))  # 月份\n",
    "\n",
    "    time_set = list(map(lambda times: pd.datetime.strptime(times, '%H:%M:%S'),\n",
    "                   set1['order_time']))  # 将set中的order_time列转换为特定时间格式\n",
    "    second_data = list(map(lambda data: data.second, time_set))  # 秒\n",
    "    minute_data = list(map(lambda data: data.minute, time_set))  # 分钟\n",
    "    hour_data = list(map(lambda data: data.hour, time_set))  # 小时\n",
    "\n",
    "    final_set = []  # 列表，用于将上述拓展属性组合起来\n",
    "    #final_set.extend((weekday_data, daysinmonth_data, month_data, second_data, minute_data, hour_data))  # 将属性列表批量组合\n",
    "    final_set.extend((month_data, daysinmonth_data, weekday_data, hour_data, minute_data, second_data))  # 将属性列表批量组合\n",
    "    #final_set.extend(list(weekday_data), list(daysinmonth_data), list(month_data), list(second_data), list(minute_data), list(hour_data))  # 将属性列表批量组合\n",
    "    final_matrix = np.array(final_set).T  # 转换为矩阵并转置\n",
    "    return final_matrix"
   ]
  },
  {
   "cell_type": "markdown",
   "metadata": {},
   "source": [
    "# 读取数据"
   ]
  },
  {
   "cell_type": "code",
   "execution_count": 29,
   "metadata": {},
   "outputs": [
    {
     "data": {
      "text/html": [
       "<div>\n",
       "<style scoped>\n",
       "    .dataframe tbody tr th:only-of-type {\n",
       "        vertical-align: middle;\n",
       "    }\n",
       "\n",
       "    .dataframe tbody tr th {\n",
       "        vertical-align: top;\n",
       "    }\n",
       "\n",
       "    .dataframe thead th {\n",
       "        text-align: right;\n",
       "    }\n",
       "</style>\n",
       "<table border=\"1\" class=\"dataframe\">\n",
       "  <thead>\n",
       "    <tr style=\"text-align: right;\">\n",
       "      <th></th>\n",
       "      <th>order_id</th>\n",
       "      <th>order_date</th>\n",
       "      <th>order_time</th>\n",
       "      <th>cat</th>\n",
       "      <th>attribution</th>\n",
       "      <th>pro_id</th>\n",
       "      <th>pro_brand</th>\n",
       "      <th>total_money</th>\n",
       "      <th>total_quantity</th>\n",
       "      <th>order_source</th>\n",
       "      <th>pay_type</th>\n",
       "      <th>use_id</th>\n",
       "      <th>city</th>\n",
       "      <th>abnormal_label</th>\n",
       "    </tr>\n",
       "  </thead>\n",
       "  <tbody>\n",
       "    <tr>\n",
       "      <th>0</th>\n",
       "      <td>4277880103</td>\n",
       "      <td>2013-10-17</td>\n",
       "      <td>13:09:16</td>\n",
       "      <td>NaN</td>\n",
       "      <td>GO</td>\n",
       "      <td>8000001215</td>\n",
       "      <td>NaN</td>\n",
       "      <td>1000.0</td>\n",
       "      <td>1000</td>\n",
       "      <td>游戏站点</td>\n",
       "      <td>当当支付</td>\n",
       "      <td>murongchun</td>\n",
       "      <td>北京市</td>\n",
       "      <td>0</td>\n",
       "    </tr>\n",
       "    <tr>\n",
       "      <th>1</th>\n",
       "      <td>4283851335</td>\n",
       "      <td>2013-09-23</td>\n",
       "      <td>14:09:49</td>\n",
       "      <td>手机摄影数码</td>\n",
       "      <td>POP</td>\n",
       "      <td>8002042497</td>\n",
       "      <td>三星</td>\n",
       "      <td>766000.0</td>\n",
       "      <td>200</td>\n",
       "      <td>主站</td>\n",
       "      <td>合并支付</td>\n",
       "      <td>dakehu_zy</td>\n",
       "      <td>上海市</td>\n",
       "      <td>1</td>\n",
       "    </tr>\n",
       "  </tbody>\n",
       "</table>\n",
       "</div>"
      ],
      "text/plain": [
       "     order_id  order_date order_time     cat attribution      pro_id  \\\n",
       "0  4277880103  2013-10-17   13:09:16     NaN          GO  8000001215   \n",
       "1  4283851335  2013-09-23   14:09:49  手机摄影数码         POP  8002042497   \n",
       "\n",
       "  pro_brand  total_money  total_quantity order_source pay_type      use_id  \\\n",
       "0       NaN       1000.0            1000         游戏站点     当当支付  murongchun   \n",
       "1        三星     766000.0             200           主站     合并支付   dakehu_zy   \n",
       "\n",
       "  city  abnormal_label  \n",
       "0  北京市               0  \n",
       "1  上海市               1  "
      ]
     },
     "execution_count": 29,
     "metadata": {},
     "output_type": "execute_result"
    }
   ],
   "source": [
    "# 数据应用\n",
    "# 定义特殊字段数据格式\n",
    "dtypes = {'order_id': np.object,'pro_id': np.object,'use_id': np.object}\n",
    "\n",
    "raw_data = pd.read_table('abnormal_orders.txt', delimiter=',', dtype=dtypes)  # 读取数据集\n",
    "\n",
    "raw_data.head(2)#最后一列为样本的标签列\n"
   ]
  },
  {
   "cell_type": "code",
   "execution_count": 30,
   "metadata": {},
   "outputs": [
    {
     "data": {
      "text/html": [
       "<div>\n",
       "<style scoped>\n",
       "    .dataframe tbody tr th:only-of-type {\n",
       "        vertical-align: middle;\n",
       "    }\n",
       "\n",
       "    .dataframe tbody tr th {\n",
       "        vertical-align: top;\n",
       "    }\n",
       "\n",
       "    .dataframe thead th {\n",
       "        text-align: right;\n",
       "    }\n",
       "</style>\n",
       "<table border=\"1\" class=\"dataframe\">\n",
       "  <thead>\n",
       "    <tr style=\"text-align: right;\">\n",
       "      <th></th>\n",
       "      <th>order_date</th>\n",
       "      <th>order_time</th>\n",
       "    </tr>\n",
       "  </thead>\n",
       "  <tbody>\n",
       "    <tr>\n",
       "      <th>0</th>\n",
       "      <td>2013-10-17</td>\n",
       "      <td>13:09:16</td>\n",
       "    </tr>\n",
       "    <tr>\n",
       "      <th>1</th>\n",
       "      <td>2013-09-23</td>\n",
       "      <td>14:09:49</td>\n",
       "    </tr>\n",
       "  </tbody>\n",
       "</table>\n",
       "</div>"
      ],
      "text/plain": [
       "   order_date order_time\n",
       "0  2013-10-17   13:09:16\n",
       "1  2013-09-23   14:09:49"
      ]
     },
     "execution_count": 30,
     "metadata": {},
     "output_type": "execute_result"
    }
   ],
   "source": [
    "data_date = raw_data[['order_date','order_time']]\n",
    "\n",
    "data_date.head(2)"
   ]
  },
  {
   "cell_type": "markdown",
   "metadata": {},
   "source": [
    "# 执行时间拓展函数"
   ]
  },
  {
   "cell_type": "code",
   "execution_count": 31,
   "metadata": {},
   "outputs": [
    {
     "data": {
      "text/plain": [
       "array([[10, 17,  3, 13,  9, 16],\n",
       "       [ 9, 23,  0, 14,  9, 49],\n",
       "       [ 8, 27,  1, 14, 26, 38],\n",
       "       ...,\n",
       "       [ 3, 24,  6, 23, 54, 34],\n",
       "       [ 9, 19,  3, 23, 55,  6],\n",
       "       [ 5, 20,  0, 23, 58, 59]])"
      ]
     },
     "execution_count": 31,
     "metadata": {},
     "output_type": "execute_result"
    }
   ],
   "source": [
    "datetime2int(data_date)"
   ]
  },
  {
   "cell_type": "code",
   "execution_count": null,
   "metadata": {},
   "outputs": [],
   "source": []
  }
 ],
 "metadata": {
  "kernelspec": {
   "display_name": "Python 3",
   "language": "python",
   "name": "python3"
  },
  "language_info": {
   "codemirror_mode": {
    "name": "ipython",
    "version": 3
   },
   "file_extension": ".py",
   "mimetype": "text/x-python",
   "name": "python",
   "nbconvert_exporter": "python",
   "pygments_lexer": "ipython3",
   "version": "3.7.0"
  }
 },
 "nbformat": 4,
 "nbformat_minor": 2
}

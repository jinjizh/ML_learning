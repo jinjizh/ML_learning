{
 "cells": [
  {
   "cell_type": "markdown",
   "metadata": {},
   "source": [
    "# XGBoost类库使用小结\n",
    "https://www.cnblogs.com/pinard/p/11114748.html"
   ]
  },
  {
   "cell_type": "code",
   "execution_count": null,
   "metadata": {},
   "outputs": [],
   "source": [
    "import pandas as pd\n",
    "import numpy as np\n",
    "import xgboost as xgb\n",
    "import matplotlib.pylab as plt\n",
    "%matplotlib inline\n",
    "\n",
    "from sklearn.model_selection import GridSearchCV\n",
    "from sklearn.model_selection import train_test_split"
   ]
  },
  {
   "cell_type": "code",
   "execution_count": 3,
   "metadata": {},
   "outputs": [
    {
     "name": "stderr",
     "output_type": "stream",
     "text": [
      "D:\\Anaconda3_5.3.1\\lib\\site-packages\\sklearn\\utils\\deprecation.py:144: FutureWarning: The sklearn.datasets.samples_generator module is  deprecated in version 0.22 and will be removed in version 0.24. The corresponding classes / functions should instead be imported from sklearn.datasets. Anything that cannot be imported from sklearn.datasets is now part of the private API.\n",
      "  warnings.warn(message, FutureWarning)\n"
     ]
    }
   ],
   "source": [
    "from sklearn.datasets.samples_generator import make_classification\n",
    "# X为样本特征，y为样本类别输出， 共10000个样本，每个样本20个特征，输出有2个类别，没有冗余特征，每个类别一个簇\n",
    "X, y = make_classification(n_samples=10000, n_features=20, n_redundant=0,\n",
    "                             n_clusters_per_class=1, n_classes=2, flip_y=0.1)"
   ]
  },
  {
   "cell_type": "code",
   "execution_count": 6,
   "metadata": {},
   "outputs": [],
   "source": [
    "X_train, X_test, y_train, y_test = train_test_split(X, y, random_state=1)"
   ]
  },
  {
   "cell_type": "markdown",
   "metadata": {},
   "source": [
    "# 2.1 使用原生Python API接口"
   ]
  },
  {
   "cell_type": "code",
   "execution_count": 7,
   "metadata": {},
   "outputs": [],
   "source": [
    "dtrain = xgb.DMatrix(X_train,y_train)\n",
    "dtest = xgb.DMatrix(X_test,y_test)"
   ]
  },
  {
   "cell_type": "code",
   "execution_count": 9,
   "metadata": {},
   "outputs": [],
   "source": [
    "#设置xgboost的参数，并进行训练\n",
    "param = {'max_depth':5, 'eta':0.5, 'verbosity':1, 'objective':'binary:logistic'}\n",
    "raw_model = xgb.train(param, dtrain, num_boost_round=20)"
   ]
  },
  {
   "cell_type": "code",
   "execution_count": 10,
   "metadata": {},
   "outputs": [
    {
     "name": "stdout",
     "output_type": "stream",
     "text": [
      "0.9546666666666667\n"
     ]
    }
   ],
   "source": [
    "# 计算其准确度，训练集\n",
    "from sklearn.metrics import accuracy_score\n",
    "pred_train_raw = raw_model.predict(dtrain)\n",
    "for i in range(len(pred_train_raw)):\n",
    "    if pred_train_raw[i] > 0.5:\n",
    "         pred_train_raw[i]=1\n",
    "    else:\n",
    "        pred_train_raw[i]=0               \n",
    "print (accuracy_score(dtrain.get_label(), pred_train_raw))"
   ]
  },
  {
   "cell_type": "code",
   "execution_count": 12,
   "metadata": {},
   "outputs": [
    {
     "name": "stdout",
     "output_type": "stream",
     "text": [
      "0.9424\n"
     ]
    }
   ],
   "source": [
    "# 计算其准确度，验证集\n",
    "pred_test_raw = raw_model.predict(dtest)\n",
    "for i in range(len(pred_test_raw)):\n",
    "    if pred_test_raw[i] > 0.5:\n",
    "         pred_test_raw[i]=1\n",
    "    else:\n",
    "        pred_test_raw[i]=0               \n",
    "print (accuracy_score(dtest.get_label(), pred_test_raw))"
   ]
  },
  {
   "cell_type": "markdown",
   "metadata": {},
   "source": [
    "# 2.2 使用sklearn风格接口，使用原生参数"
   ]
  },
  {
   "cell_type": "code",
   "execution_count": 13,
   "metadata": {},
   "outputs": [
    {
     "name": "stdout",
     "output_type": "stream",
     "text": [
      "[0]\tvalidation_0-error:0.0596\n",
      "Will train until validation_0-error hasn't improved in 10 rounds.\n",
      "[1]\tvalidation_0-error:0.0592\n",
      "[2]\tvalidation_0-error:0.0596\n",
      "[3]\tvalidation_0-error:0.0584\n",
      "[4]\tvalidation_0-error:0.0588\n",
      "[5]\tvalidation_0-error:0.0588\n",
      "[6]\tvalidation_0-error:0.0584\n",
      "[7]\tvalidation_0-error:0.0584\n",
      "[8]\tvalidation_0-error:0.0584\n",
      "[9]\tvalidation_0-error:0.058\n",
      "[10]\tvalidation_0-error:0.0584\n",
      "[11]\tvalidation_0-error:0.0584\n",
      "[12]\tvalidation_0-error:0.0588\n",
      "[13]\tvalidation_0-error:0.0584\n",
      "[14]\tvalidation_0-error:0.0584\n",
      "[15]\tvalidation_0-error:0.0592\n",
      "[16]\tvalidation_0-error:0.0588\n",
      "[17]\tvalidation_0-error:0.0588\n",
      "[18]\tvalidation_0-error:0.0588\n",
      "[19]\tvalidation_0-error:0.0588\n",
      "Stopping. Best iteration:\n",
      "[9]\tvalidation_0-error:0.058\n",
      "\n"
     ]
    },
    {
     "data": {
      "text/plain": [
       "XGBClassifier(base_score=0.5, booster='gbtree', colsample_bylevel=1,\n",
       "              colsample_bynode=1, colsample_bytree=1, eta=0.5, gamma=0,\n",
       "              learning_rate=0.1, max_delta_step=0, max_depth=5,\n",
       "              min_child_weight=1, missing=None, n_estimators=100, n_jobs=1,\n",
       "              nthread=None, objective='binary:logistic', random_state=0,\n",
       "              reg_alpha=0, reg_lambda=1, scale_pos_weight=1, seed=None,\n",
       "              silent=None, subsample=1, verbosity=1)"
      ]
     },
     "execution_count": 13,
     "metadata": {},
     "output_type": "execute_result"
    }
   ],
   "source": [
    "sklearn_model_raw = xgb.XGBClassifier(**param)\n",
    "sklearn_model_raw.fit(X_train, y_train, early_stopping_rounds=10, eval_metric=\"error\",\n",
    "        eval_set=[(X_test, y_test)])"
   ]
  },
  {
   "cell_type": "markdown",
   "metadata": {},
   "source": [
    "# 2.3使用sklearn风格接口，使用sklearn风格参数"
   ]
  },
  {
   "cell_type": "code",
   "execution_count": 14,
   "metadata": {},
   "outputs": [],
   "source": [
    "sklearn_model_new = xgb.XGBClassifier(max_depth=5,learning_rate= 0.5, verbosity=1, objective='binary:logistic',random_state=1)"
   ]
  },
  {
   "cell_type": "code",
   "execution_count": 15,
   "metadata": {},
   "outputs": [
    {
     "name": "stdout",
     "output_type": "stream",
     "text": [
      "[0]\tvalidation_0-error:0.0596\n",
      "Will train until validation_0-error hasn't improved in 10 rounds.\n",
      "[1]\tvalidation_0-error:0.0604\n",
      "[2]\tvalidation_0-error:0.0592\n",
      "[3]\tvalidation_0-error:0.0588\n",
      "[4]\tvalidation_0-error:0.0588\n",
      "[5]\tvalidation_0-error:0.058\n",
      "[6]\tvalidation_0-error:0.0576\n",
      "[7]\tvalidation_0-error:0.0568\n",
      "[8]\tvalidation_0-error:0.0552\n",
      "[9]\tvalidation_0-error:0.054\n",
      "[10]\tvalidation_0-error:0.0564\n",
      "[11]\tvalidation_0-error:0.056\n",
      "[12]\tvalidation_0-error:0.0556\n",
      "[13]\tvalidation_0-error:0.056\n",
      "[14]\tvalidation_0-error:0.056\n",
      "[15]\tvalidation_0-error:0.056\n",
      "[16]\tvalidation_0-error:0.0564\n",
      "[17]\tvalidation_0-error:0.0556\n",
      "[18]\tvalidation_0-error:0.0568\n",
      "[19]\tvalidation_0-error:0.0576\n",
      "Stopping. Best iteration:\n",
      "[9]\tvalidation_0-error:0.054\n",
      "\n"
     ]
    },
    {
     "data": {
      "text/plain": [
       "XGBClassifier(base_score=0.5, booster='gbtree', colsample_bylevel=1,\n",
       "              colsample_bynode=1, colsample_bytree=1, gamma=0,\n",
       "              learning_rate=0.5, max_delta_step=0, max_depth=5,\n",
       "              min_child_weight=1, missing=None, n_estimators=100, n_jobs=1,\n",
       "              nthread=None, objective='binary:logistic', random_state=1,\n",
       "              reg_alpha=0, reg_lambda=1, scale_pos_weight=1, seed=None,\n",
       "              silent=None, subsample=1, verbosity=1)"
      ]
     },
     "execution_count": 15,
     "metadata": {},
     "output_type": "execute_result"
    }
   ],
   "source": [
    "sklearn_model_new.fit(X_train, y_train, early_stopping_rounds=10, eval_metric=\"error\",\n",
    "        eval_set=[(X_test, y_test)])"
   ]
  },
  {
   "cell_type": "code",
   "execution_count": null,
   "metadata": {},
   "outputs": [],
   "source": []
  }
 ],
 "metadata": {
  "kernelspec": {
   "display_name": "Python 3",
   "language": "python",
   "name": "python3"
  },
  "language_info": {
   "codemirror_mode": {
    "name": "ipython",
    "version": 3
   },
   "file_extension": ".py",
   "mimetype": "text/x-python",
   "name": "python",
   "nbconvert_exporter": "python",
   "pygments_lexer": "ipython3",
   "version": "3.7.0"
  }
 },
 "nbformat": 4,
 "nbformat_minor": 2
}

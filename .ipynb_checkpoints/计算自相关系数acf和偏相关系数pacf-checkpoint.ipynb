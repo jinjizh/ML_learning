{
 "cells": [
  {
   "cell_type": "markdown",
   "metadata": {},
   "source": [
    "计算自相关系数acf和偏相关系数pacf\n",
    "\n",
    "来自 <https://www.cnblogs.com/nkuhyx/p/12162637.html> "
   ]
  },
  {
   "cell_type": "code",
   "execution_count": 5,
   "metadata": {},
   "outputs": [],
   "source": [
    "import numpy as np\n",
    "\n",
    "# acf method in statsmodels\n",
    "#import statsmodels.tsa.stattools as stattools\n",
    "#def default_acf(ts, k):\n",
    "#    return statools.acf(ts, nlags=k, unbiased=False)\n",
    "\n",
    "def acf(ts, k):\n",
    "    \"\"\" Compute autocorrelation coefficient, biased\n",
    "    \"\"\"\n",
    "    x = np.array(ts) - np.mean(ts)\n",
    "    coeff = np.zeros(k+1, np.float64) # to store acf\n",
    "    coeff[0] = x.dot(x) # N*c(0)\n",
    "\n",
    "    for i in range(1, k+1):\n",
    "        coeff[i] = x[:-i].dot(x[i:]) # (N-k)*c(i)\n",
    "        \n",
    "    return coeff / coeff[0]\n"
   ]
  },
  {
   "cell_type": "code",
   "execution_count": 6,
   "metadata": {},
   "outputs": [],
   "source": [
    "ts = [1,2,3,4,5,1,2,3,4,1]"
   ]
  },
  {
   "cell_type": "code",
   "execution_count": 14,
   "metadata": {},
   "outputs": [
    {
     "data": {
      "text/plain": [
       "array([ 1.        , -0.00966184, -0.42934783, -0.42546584,  0.30434783,\n",
       "        0.13043478, -0.13043478, -0.38405797, -0.34782609,  1.39130435])"
      ]
     },
     "execution_count": 14,
     "metadata": {},
     "output_type": "execute_result"
    }
   ],
   "source": [
    "k=10\n",
    "acf(ts, k)"
   ]
  },
  {
   "cell_type": "code",
   "execution_count": 17,
   "metadata": {},
   "outputs": [
    {
     "data": {
      "text/plain": [
       "array([ 1.        , -0.00966184, -0.42934783, -0.42546584,  0.30434783,\n",
       "        0.13043478, -0.13043478, -0.38405797, -0.34782609,  1.39130435])"
      ]
     },
     "execution_count": 17,
     "metadata": {},
     "output_type": "execute_result"
    }
   ],
   "source": [
    "x = np.array(ts) - np.mean(ts)\n",
    "coeff = np.zeros(k+1, np.float64) # to store acf\n",
    "acf(ts, 5)"
   ]
  },
  {
   "cell_type": "code",
   "execution_count": 18,
   "metadata": {},
   "outputs": [
    {
     "data": {
      "text/plain": [
       "array([-1.6, -0.6,  0.4,  1.4,  2.4, -1.6, -0.6,  0.4,  1.4, -1.6])"
      ]
     },
     "execution_count": 18,
     "metadata": {},
     "output_type": "execute_result"
    }
   ],
   "source": [
    "x"
   ]
  },
  {
   "cell_type": "code",
   "execution_count": 19,
   "metadata": {},
   "outputs": [
    {
     "data": {
      "text/plain": [
       "array([18.4,  0. ,  0. ,  0. ,  0. ,  0. ,  0. ,  0. ,  0. ,  0. ,  0. ])"
      ]
     },
     "execution_count": 19,
     "metadata": {},
     "output_type": "execute_result"
    }
   ],
   "source": [
    "coeff[0] = x.dot(x) # N*c(0)\n",
    "coeff"
   ]
  },
  {
   "cell_type": "code",
   "execution_count": 20,
   "metadata": {},
   "outputs": [
    {
     "name": "stdout",
     "output_type": "stream",
     "text": [
      "[-1.6 -0.6  0.4  1.4  2.4 -1.6 -0.6  0.4  1.4]\n",
      "[-0.6  0.4  1.4  2.4 -1.6 -0.6  0.4  1.4 -1.6]\n",
      "-0.1599999999999997\n",
      "--------------------\n",
      "[-1.6 -0.6  0.4  1.4  2.4 -1.6 -0.6  0.4]\n",
      "[ 0.4  1.4  2.4 -1.6 -0.6  0.4  1.4 -1.6]\n",
      "-6.319999999999999\n",
      "--------------------\n",
      "[-1.6 -0.6  0.4  1.4  2.4 -1.6 -0.6]\n",
      "[ 1.4  2.4 -1.6 -0.6  0.4  1.4 -1.6]\n",
      "-5.4799999999999995\n",
      "--------------------\n",
      "[-1.6 -0.6  0.4  1.4  2.4 -1.6]\n",
      "[ 2.4 -1.6 -0.6  0.4  1.4 -1.6]\n",
      "3.36\n",
      "--------------------\n",
      "[-1.6 -0.6  0.4  1.4  2.4]\n",
      "[-1.6 -0.6  0.4  1.4 -1.6]\n",
      "1.200000000000001\n",
      "--------------------\n",
      "[-1.6 -0.6  0.4  1.4]\n",
      "[-0.6  0.4  1.4 -1.6]\n",
      "-0.9599999999999997\n",
      "--------------------\n",
      "[-1.6 -0.6  0.4]\n",
      "[ 0.4  1.4 -1.6]\n",
      "-2.12\n",
      "--------------------\n",
      "[-1.6 -0.6]\n",
      "[ 1.4 -1.6]\n",
      "-1.2799999999999996\n",
      "--------------------\n",
      "[-1.6]\n",
      "[-1.6]\n",
      "2.5600000000000005\n",
      "--------------------\n",
      "[]\n",
      "[]\n",
      "0.0\n",
      "--------------------\n"
     ]
    }
   ],
   "source": [
    "for i in range(1, k+1):\n",
    "    print(x[:-i])\n",
    "    print(x[i:])\n",
    "    print(x[:-i].dot(x[i:]))\n",
    "    print('-'*20)"
   ]
  },
  {
   "cell_type": "code",
   "execution_count": 21,
   "metadata": {},
   "outputs": [],
   "source": [
    "from statsmodels.tsa.stattools import acf, pacf"
   ]
  },
  {
   "cell_type": "code",
   "execution_count": 16,
   "metadata": {},
   "outputs": [
    {
     "data": {
      "text/plain": [
       "array([ 1.        , -0.00869565, -0.34347826, -0.29782609,  0.1826087 ,\n",
       "        0.06521739, -0.05217391, -0.11521739, -0.06956522,  0.13913043])"
      ]
     },
     "execution_count": 16,
     "metadata": {},
     "output_type": "execute_result"
    }
   ],
   "source": [
    "acf(ts)"
   ]
  },
  {
   "cell_type": "code",
   "execution_count": 22,
   "metadata": {},
   "outputs": [],
   "source": [
    "from statsmodels.graphics.tsaplots import plot_acf, plot_pacf"
   ]
  },
  {
   "cell_type": "code",
   "execution_count": 25,
   "metadata": {},
   "outputs": [
    {
     "data": {
      "image/png": "[encoded data removed]",
      "text/plain": [
       "<Figure size 432x288 with 1 Axes>"
      ]
     },
     "execution_count": 25,
     "metadata": {},
     "output_type": "execute_result"
    },
    {
     "data": {
      "image/png": "[encoded data removed]",
      "text/plain": [
       "<Figure size 432x288 with 1 Axes>"
      ]
     },
     "metadata": {
      "needs_background": "light"
     },
     "output_type": "display_data"
    }
   ],
   "source": [
    "plot_acf(ts)"
   ]
  },
  {
   "cell_type": "code",
   "execution_count": null,
   "metadata": {},
   "outputs": [],
   "source": []
  }
 ],
 "metadata": {
  "kernelspec": {
   "display_name": "Python 3",
   "language": "python",
   "name": "python3"
  },
  "language_info": {
   "codemirror_mode": {
    "name": "ipython",
    "version": 3
   },
   "file_extension": ".py",
   "mimetype": "text/x-python",
   "name": "python",
   "nbconvert_exporter": "python",
   "pygments_lexer": "ipython3",
   "version": "3.7.0"
  }
 },
 "nbformat": 4,
 "nbformat_minor": 2
}
